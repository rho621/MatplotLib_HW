{
 "cells": [
  {
   "cell_type": "markdown",
   "metadata": {},
   "source": [
    "## Observations and Insights"
   ]
  },
  {
   "cell_type": "markdown",
   "metadata": {},
   "source": []
  },
  {
   "cell_type": "markdown",
   "metadata": {},
   "source": [
    "## Dependencies and starter code"
   ]
  },
  {
   "cell_type": "code",
   "execution_count": 3,
   "metadata": {},
   "outputs": [
    {
     "data": {
      "text/html": [
       "<div>\n",
       "<style scoped>\n",
       "    .dataframe tbody tr th:only-of-type {\n",
       "        vertical-align: middle;\n",
       "    }\n",
       "\n",
       "    .dataframe tbody tr th {\n",
       "        vertical-align: top;\n",
       "    }\n",
       "\n",
       "    .dataframe thead th {\n",
       "        text-align: right;\n",
       "    }\n",
       "</style>\n",
       "<table border=\"1\" class=\"dataframe\">\n",
       "  <thead>\n",
       "    <tr style=\"text-align: right;\">\n",
       "      <th></th>\n",
       "      <th>Mouse ID</th>\n",
       "      <th>Timepoint</th>\n",
       "      <th>Tumor Volume (mm3)</th>\n",
       "      <th>Metastatic Sites</th>\n",
       "      <th>Drug Regimen</th>\n",
       "      <th>Sex</th>\n",
       "      <th>Age_months</th>\n",
       "      <th>Weight (g)</th>\n",
       "    </tr>\n",
       "  </thead>\n",
       "  <tbody>\n",
       "    <tr>\n",
       "      <td>0</td>\n",
       "      <td>b128</td>\n",
       "      <td>0</td>\n",
       "      <td>45.0</td>\n",
       "      <td>0</td>\n",
       "      <td>Capomulin</td>\n",
       "      <td>Female</td>\n",
       "      <td>9</td>\n",
       "      <td>22</td>\n",
       "    </tr>\n",
       "    <tr>\n",
       "      <td>1</td>\n",
       "      <td>f932</td>\n",
       "      <td>0</td>\n",
       "      <td>45.0</td>\n",
       "      <td>0</td>\n",
       "      <td>Ketapril</td>\n",
       "      <td>Male</td>\n",
       "      <td>15</td>\n",
       "      <td>29</td>\n",
       "    </tr>\n",
       "    <tr>\n",
       "      <td>2</td>\n",
       "      <td>g107</td>\n",
       "      <td>0</td>\n",
       "      <td>45.0</td>\n",
       "      <td>0</td>\n",
       "      <td>Ketapril</td>\n",
       "      <td>Female</td>\n",
       "      <td>2</td>\n",
       "      <td>29</td>\n",
       "    </tr>\n",
       "    <tr>\n",
       "      <td>3</td>\n",
       "      <td>a457</td>\n",
       "      <td>0</td>\n",
       "      <td>45.0</td>\n",
       "      <td>0</td>\n",
       "      <td>Ketapril</td>\n",
       "      <td>Female</td>\n",
       "      <td>11</td>\n",
       "      <td>30</td>\n",
       "    </tr>\n",
       "    <tr>\n",
       "      <td>4</td>\n",
       "      <td>c819</td>\n",
       "      <td>0</td>\n",
       "      <td>45.0</td>\n",
       "      <td>0</td>\n",
       "      <td>Ketapril</td>\n",
       "      <td>Male</td>\n",
       "      <td>21</td>\n",
       "      <td>25</td>\n",
       "    </tr>\n",
       "  </tbody>\n",
       "</table>\n",
       "</div>"
      ],
      "text/plain": [
       "  Mouse ID  Timepoint  Tumor Volume (mm3)  Metastatic Sites Drug Regimen  \\\n",
       "0     b128          0                45.0                 0    Capomulin   \n",
       "1     f932          0                45.0                 0     Ketapril   \n",
       "2     g107          0                45.0                 0     Ketapril   \n",
       "3     a457          0                45.0                 0     Ketapril   \n",
       "4     c819          0                45.0                 0     Ketapril   \n",
       "\n",
       "      Sex  Age_months  Weight (g)  \n",
       "0  Female           9          22  \n",
       "1    Male          15          29  \n",
       "2  Female           2          29  \n",
       "3  Female          11          30  \n",
       "4    Male          21          25  "
      ]
     },
     "execution_count": 3,
     "metadata": {},
     "output_type": "execute_result"
    }
   ],
   "source": [
    "# Dependencies and Setup\n",
    "import matplotlib.pyplot as plt\n",
    "import pandas as pd\n",
    "import scipy.stats as st\n",
    "\n",
    "# Study data files\n",
    "mouse_metadata = \"data/Mouse_metadata.csv\"\n",
    "study_results = \"data/Study_results.csv\"\n",
    "\n",
    "# Read the mouse data and the study results\n",
    "mouse_metadata = pd.read_csv(mouse_metadata)\n",
    "study_results = pd.read_csv(study_results)\n",
    "\n",
    "# Combine the data into a single dataset\n",
    "complete_data = pd.merge(study_results, mouse_metadata, how=\"left\")\n",
    "complete_data.head()"
   ]
  },
  {
   "cell_type": "markdown",
   "metadata": {},
   "source": [
    "## Summary statistics"
   ]
  },
  {
   "cell_type": "code",
   "execution_count": 4,
   "metadata": {},
   "outputs": [
    {
     "data": {
      "text/html": [
       "<div>\n",
       "<style scoped>\n",
       "    .dataframe tbody tr th:only-of-type {\n",
       "        vertical-align: middle;\n",
       "    }\n",
       "\n",
       "    .dataframe tbody tr th {\n",
       "        vertical-align: top;\n",
       "    }\n",
       "\n",
       "    .dataframe thead th {\n",
       "        text-align: right;\n",
       "    }\n",
       "</style>\n",
       "<table border=\"1\" class=\"dataframe\">\n",
       "  <thead>\n",
       "    <tr style=\"text-align: right;\">\n",
       "      <th></th>\n",
       "      <th>Mean Tumor vol</th>\n",
       "      <th>Media Tumor vol</th>\n",
       "      <th>Variance Tumor vol</th>\n",
       "      <th>STD Tumor vol</th>\n",
       "      <th>SEM Tumor vol</th>\n",
       "    </tr>\n",
       "    <tr>\n",
       "      <th>Drug Regimen</th>\n",
       "      <th></th>\n",
       "      <th></th>\n",
       "      <th></th>\n",
       "      <th></th>\n",
       "      <th></th>\n",
       "    </tr>\n",
       "  </thead>\n",
       "  <tbody>\n",
       "    <tr>\n",
       "      <td>Capomulin</td>\n",
       "      <td>40.675741</td>\n",
       "      <td>41.557809</td>\n",
       "      <td>24.947764</td>\n",
       "      <td>4.994774</td>\n",
       "      <td>0.329346</td>\n",
       "    </tr>\n",
       "    <tr>\n",
       "      <td>Ceftamin</td>\n",
       "      <td>52.591172</td>\n",
       "      <td>51.776157</td>\n",
       "      <td>39.290177</td>\n",
       "      <td>6.268188</td>\n",
       "      <td>0.469821</td>\n",
       "    </tr>\n",
       "    <tr>\n",
       "      <td>Infubinol</td>\n",
       "      <td>52.884795</td>\n",
       "      <td>51.820584</td>\n",
       "      <td>43.128684</td>\n",
       "      <td>6.567243</td>\n",
       "      <td>0.492236</td>\n",
       "    </tr>\n",
       "    <tr>\n",
       "      <td>Ketapril</td>\n",
       "      <td>55.235638</td>\n",
       "      <td>53.698743</td>\n",
       "      <td>68.553577</td>\n",
       "      <td>8.279709</td>\n",
       "      <td>0.603860</td>\n",
       "    </tr>\n",
       "    <tr>\n",
       "      <td>Naftisol</td>\n",
       "      <td>54.331565</td>\n",
       "      <td>52.509285</td>\n",
       "      <td>66.173479</td>\n",
       "      <td>8.134708</td>\n",
       "      <td>0.596466</td>\n",
       "    </tr>\n",
       "    <tr>\n",
       "      <td>Placebo</td>\n",
       "      <td>54.033581</td>\n",
       "      <td>52.288934</td>\n",
       "      <td>61.168083</td>\n",
       "      <td>7.821003</td>\n",
       "      <td>0.581331</td>\n",
       "    </tr>\n",
       "    <tr>\n",
       "      <td>Propriva</td>\n",
       "      <td>52.322552</td>\n",
       "      <td>50.854632</td>\n",
       "      <td>42.351070</td>\n",
       "      <td>6.507770</td>\n",
       "      <td>0.512884</td>\n",
       "    </tr>\n",
       "    <tr>\n",
       "      <td>Ramicane</td>\n",
       "      <td>40.216745</td>\n",
       "      <td>40.673236</td>\n",
       "      <td>23.486704</td>\n",
       "      <td>4.846308</td>\n",
       "      <td>0.320955</td>\n",
       "    </tr>\n",
       "    <tr>\n",
       "      <td>Stelasyn</td>\n",
       "      <td>54.233149</td>\n",
       "      <td>52.431737</td>\n",
       "      <td>59.450562</td>\n",
       "      <td>7.710419</td>\n",
       "      <td>0.573111</td>\n",
       "    </tr>\n",
       "    <tr>\n",
       "      <td>Zoniferol</td>\n",
       "      <td>53.236507</td>\n",
       "      <td>51.818479</td>\n",
       "      <td>48.533355</td>\n",
       "      <td>6.966589</td>\n",
       "      <td>0.516398</td>\n",
       "    </tr>\n",
       "  </tbody>\n",
       "</table>\n",
       "</div>"
      ],
      "text/plain": [
       "              Mean Tumor vol  Media Tumor vol  Variance Tumor vol  \\\n",
       "Drug Regimen                                                        \n",
       "Capomulin          40.675741        41.557809           24.947764   \n",
       "Ceftamin           52.591172        51.776157           39.290177   \n",
       "Infubinol          52.884795        51.820584           43.128684   \n",
       "Ketapril           55.235638        53.698743           68.553577   \n",
       "Naftisol           54.331565        52.509285           66.173479   \n",
       "Placebo            54.033581        52.288934           61.168083   \n",
       "Propriva           52.322552        50.854632           42.351070   \n",
       "Ramicane           40.216745        40.673236           23.486704   \n",
       "Stelasyn           54.233149        52.431737           59.450562   \n",
       "Zoniferol          53.236507        51.818479           48.533355   \n",
       "\n",
       "              STD Tumor vol  SEM Tumor vol  \n",
       "Drug Regimen                                \n",
       "Capomulin          4.994774       0.329346  \n",
       "Ceftamin           6.268188       0.469821  \n",
       "Infubinol          6.567243       0.492236  \n",
       "Ketapril           8.279709       0.603860  \n",
       "Naftisol           8.134708       0.596466  \n",
       "Placebo            7.821003       0.581331  \n",
       "Propriva           6.507770       0.512884  \n",
       "Ramicane           4.846308       0.320955  \n",
       "Stelasyn           7.710419       0.573111  \n",
       "Zoniferol          6.966589       0.516398  "
      ]
     },
     "execution_count": 4,
     "metadata": {},
     "output_type": "execute_result"
    }
   ],
   "source": [
    "# Generate a summary statistics table of mean, median, variance, standard deviation, and SEM of the tumor volume for each regimen\n",
    "drug_regimen = complete_data.groupby('Drug Regimen')\n",
    "\n",
    "drug_mean = drug_regimen.mean()[\"Tumor Volume (mm3)\"]\n",
    "drug_median = drug_regimen.median()[\"Tumor Volume (mm3)\"]\n",
    "drug_variance = drug_regimen.var()[\"Tumor Volume (mm3)\"]\n",
    "drug_std = drug_regimen.std()[\"Tumor Volume (mm3)\"]\n",
    "drug_sem = drug_regimen.sem()[\"Tumor Volume (mm3)\"]\n",
    "\n",
    "summary_stats = pd.DataFrame({\n",
    "                            \"Mean Tumor vol\": drug_mean,\n",
    "                            \"Media Tumor vol\": drug_median,\n",
    "                            \"Variance Tumor vol\": drug_variance,\n",
    "                            \"STD Tumor vol\": drug_std,\n",
    "                            \"SEM Tumor vol\": drug_sem\n",
    "                            })\n",
    "\n",
    "summary_stats"
   ]
  },
  {
   "cell_type": "markdown",
   "metadata": {},
   "source": [
    "## Bar plots"
   ]
  },
  {
   "cell_type": "code",
   "execution_count": 12,
   "metadata": {},
   "outputs": [
    {
     "data": {
      "image/png": "[encoded data removed]",
      "text/plain": [
       "<Figure size 432x288 with 1 Axes>"
      ]
     },
     "metadata": {
      "needs_background": "light"
     },
     "output_type": "display_data"
    }
   ],
   "source": [
    "# Generate a bar plot showing number of data points for each treatment regimen using pandas\n",
    "count = complete_data[\"Drug Regimen\"].value_counts()\n",
    "\n",
    "count.plot(kind=\"bar\")\n",
    "plt.xlabel(\"Drug Regimen\")\n",
    "plt.ylabel(\"Number of Data Points\")\n",
    "plt.show()"
   ]
  },
  {
   "cell_type": "code",
   "execution_count": 15,
   "metadata": {},
   "outputs": [
    {
     "data": {
      "image/png": "[encoded data removed]",
      "text/plain": [
       "<Figure size 432x288 with 1 Axes>"
      ]
     },
     "metadata": {
      "needs_background": "light"
     },
     "output_type": "display_data"
    }
   ],
   "source": [
    "# Generate a bar plot showing number of data points for each treatment regimen using pyplot\n",
    "\n",
    "plt.bar(count.index.values,count.values)\n",
    "\n",
    "plt.xlabel(\"Drug Regimen\")\n",
    "plt.xticks(rotation=90)\n",
    "plt.ylabel(\"Number of Data Points\")\n",
    "plt.show()"
   ]
  },
  {
   "cell_type": "markdown",
   "metadata": {},
   "source": [
    "## Pie plots"
   ]
  },
  {
   "cell_type": "code",
   "execution_count": 54,
   "metadata": {},
   "outputs": [
    {
     "data": {
      "image/png": "[encoded data removed]",
      "text/plain": [
       "<Figure size 432x288 with 1 Axes>"
      ]
     },
     "metadata": {},
     "output_type": "display_data"
    }
   ],
   "source": [
    "# Generate a pie plot showing the distribution of female versus male mice using pandas\n",
    "gender_count = complete_data['Sex'].value_counts()\n",
    "\n",
    "gender_count.plot(kind=\"pie\",autopct='%1.1f%%')\n",
    "plt.show()"
   ]
  },
  {
   "cell_type": "code",
   "execution_count": 57,
   "metadata": {},
   "outputs": [
    {
     "data": {
      "image/png": "[encoded data removed]",
      "text/plain": [
       "<Figure size 432x288 with 1 Axes>"
      ]
     },
     "metadata": {},
     "output_type": "display_data"
    }
   ],
   "source": [
    "# Generate a pie plot showing the distribution of female versus male mice using pyplot\n",
    "plt.pie(gender_count.values,labels=gender_count.index.values,autopct='%1.1f%%')\n",
    "plt.ylabel(\"Sex\")\n",
    "plt.show()"
   ]
  },
  {
   "cell_type": "markdown",
   "metadata": {},
   "source": [
    "## Quartiles, outliers and boxplots"
   ]
  },
  {
   "cell_type": "code",
   "execution_count": 30,
   "metadata": {},
   "outputs": [
    {
     "name": "stdout",
     "output_type": "stream",
     "text": [
      "Ramicane Outliers: Series([], Name: Tumor Volume (mm3), dtype: float64)\n",
      "Capomulin Outliers: Series([], Name: Tumor Volume (mm3), dtype: float64)\n",
      "Ceftamin Outliers: Series([], Name: Tumor Volume (mm3), dtype: float64)\n",
      "Infubinol Outliers: 31    36.321346\n",
      "Name: Tumor Volume (mm3), dtype: float64\n"
     ]
    }
   ],
   "source": [
    "# Calculate the final tumor volume of each mouse across four of the most promising treatment regimens. Calculate the IQR and quantitatively determine if there are any potential outliers. \n",
    "best_treatment = complete_data.groupby(\"Drug Regimen\")\n",
    "best_treatment = best_treatment[\"Tumor Volume (mm3)\"].max().sort_values(ascending=True)\n",
    "best_treatment\n",
    "\n",
    "#Best treatment is [ramicane, capomulin, ceftamin ,infubinol]\n",
    "\n",
    "max_tumor = complete_data.groupby([\"Mouse ID\"]).max()\n",
    "max_tumor = max_tumor.reset_index()\n",
    "\n",
    "merged_data = max_tumor[[\"Mouse ID\",\"Timepoint\"]].merge(complete_data,on=['Mouse ID','Timepoint'])\n",
    "merged_data\n",
    "\n",
    "\n",
    "ramicane = merged_data.loc[merged_data[\"Drug Regimen\"] == \"Ramicane\"][\"Tumor Volume (mm3)\"]\n",
    "capomulin = merged_data.loc[merged_data[\"Drug Regimen\"] == \"Capomulin\"][\"Tumor Volume (mm3)\"]\n",
    "ceftamin = merged_data.loc[merged_data[\"Drug Regimen\"] == \"Ceftamin\"][\"Tumor Volume (mm3)\"]\n",
    "infubinol = merged_data.loc[merged_data[\"Drug Regimen\"] == \"Infubinol\"][\"Tumor Volume (mm3)\"]\n",
    "\n",
    "#Ramicane\n",
    "ramicane_quart = ramicane.quantile([.25,.5,.75])\n",
    "ramicane_lowerq = ramicane_quart[0.25]\n",
    "ramicane_upperq = ramicane_quart[0.75]\n",
    "ramicane_iqr =  ramicane_upperq - ramicane_lowerq\n",
    "ramicane_lowerbound = ramicane_lowerq - (1.5*ramicane_iqr)\n",
    "ramicane_upperbound = ramicane_upperq + (1.5*ramicane_iqr)\n",
    "\n",
    "#Capomulin\n",
    "capomulin_quart = capomulin.quantile([.25,.5,.75])\n",
    "capomulin_lowerq = capomulin_quart[0.25]\n",
    "capomulin_upperq = capomulin_quart[0.75]\n",
    "capomulin_iqr =  capomulin_upperq - capomulin_lowerq\n",
    "capomulin_lowerbound = capomulin_lowerq - (1.5*capomulin_iqr)\n",
    "capomulin_upperbound = capomulin_upperq + (1.5*capomulin_iqr)\n",
    "\n",
    "#Ceftamin\n",
    "ceftamin_quart = ceftamin.quantile([.25,.5,.75])\n",
    "ceftamin_lowerq = ceftamin_quart[0.25]\n",
    "ceftamin_upperq = ceftamin_quart[0.75]\n",
    "ceftamin_iqr =  ceftamin_upperq - ceftamin_lowerq\n",
    "ceftamin_lowerbound = ceftamin_lowerq - (1.5*ceftamin_iqr)\n",
    "ceftamin_upperbound = ceftamin_upperq + (1.5*ceftamin_iqr)\n",
    "\n",
    "#Infubinol\n",
    "infubinol_quart = infubinol.quantile([.25,.5,.75])\n",
    "infubinol_lowerq = infubinol_quart[0.25]\n",
    "infubinol_upperq = infubinol_quart[0.75]\n",
    "infubinol_iqr =  infubinol_upperq - infubinol_lowerq\n",
    "infubinol_lowerbound = infubinol_lowerq - (1.5*infubinol_iqr)\n",
    "infubinol_upperbound = infubinol_upperq + (1.5*infubinol_iqr)\n",
    "\n",
    "print(f\"Ramicane Outliers: {ramicane.loc[(ramicane < ramicane_lowerbound) | (ramicane > ramicane_upperbound)]}\")\n",
    "print(f\"Capomulin Outliers: {capomulin.loc[(capomulin < capomulin_lowerbound) | (capomulin > capomulin_upperbound)]}\")\n",
    "print(f\"Ceftamin Outliers: {ceftamin.loc[(ceftamin < ceftamin_lowerbound) | (ceftamin > ceftamin_upperbound)]}\")\n",
    "print(f\"Infubinol Outliers: {infubinol.loc[(infubinol < infubinol_lowerbound) | (infubinol > infubinol_upperbound)]}\")"
   ]
  },
  {
   "cell_type": "code",
   "execution_count": 31,
   "metadata": {},
   "outputs": [
    {
     "data": {
      "image/png": "[encoded data removed]",
      "text/plain": [
       "<Figure size 432x288 with 1 Axes>"
      ]
     },
     "metadata": {
      "needs_background": "light"
     },
     "output_type": "display_data"
    }
   ],
   "source": [
    "# Generate a box plot of the final tumor volume of each mouse across four regimens of interest\n",
    "plt.boxplot([capomulin,ramicane,infubinol,ceftamin],labels=['Capomulin','Ramicane','Infubinol','Ceftamin'])\n",
    "plt.ylabel('Final Tumor Volume (mm3)')\n",
    "plt.show()"
   ]
  },
  {
   "cell_type": "markdown",
   "metadata": {},
   "source": [
    "## Line and scatter plots"
   ]
  },
  {
   "cell_type": "code",
   "execution_count": 32,
   "metadata": {},
   "outputs": [
    {
     "data": {
      "image/png": "[encoded data removed]",
      "text/plain": [
       "<Figure size 432x288 with 1 Axes>"
      ]
     },
     "metadata": {
      "needs_background": "light"
     },
     "output_type": "display_data"
    }
   ],
   "source": [
    "# Generate a line plot of time point versus tumor volume for a mouse treated with Capomulin\n",
    "capomulin_table = complete_data.loc[complete_data['Drug Regimen'] == \"Capomulin\"]\n",
    "\n",
    "capomulin_sample = capomulin_table.loc[capomulin_table['Mouse ID']== 'b128']\n",
    "plt.plot(capomulin_sample['Timepoint'],capomulin_sample['Tumor Volume (mm3)'])\n",
    "plt.xlabel('Days')\n",
    "plt.ylabel('Tumor Volume')\n",
    "plt.title('Capomulin Subject b128')\n",
    "plt.show()"
   ]
  },
  {
   "cell_type": "code",
   "execution_count": 33,
   "metadata": {},
   "outputs": [
    {
     "data": {
      "image/png": "[encoded data removed]",
      "text/plain": [
       "<Figure size 432x288 with 1 Axes>"
      ]
     },
     "metadata": {
      "needs_background": "light"
     },
     "output_type": "display_data"
    }
   ],
   "source": [
    "# Generate a scatter plot of mouse weight versus average tumor volume for the Capomulin regimen\n",
    "capomulin_avg = capomulin_table.groupby(['Mouse ID']).mean()\n",
    "\n",
    "plt.scatter(capomulin_avg['Weight (g)'],capomulin_avg['Tumor Volume (mm3)'])\n",
    "plt.xlabel('Weight')\n",
    "plt.ylabel('Average Tumor Volume')\n",
    "plt.title('Capomulin Weight vs Average Tumor Volume')\n",
    "plt.show()"
   ]
  },
  {
   "cell_type": "code",
   "execution_count": 34,
   "metadata": {},
   "outputs": [
    {
     "data": {
      "image/png": "[encoded data removed]",
      "text/plain": [
       "<Figure size 432x288 with 1 Axes>"
      ]
     },
     "metadata": {
      "needs_background": "light"
     },
     "output_type": "display_data"
    }
   ],
   "source": [
    "# Calculate the correlation coefficient and linear regression model for mouse weight and average tumor volume for the Capomulin regimen\n",
    "\n",
    "correlation = st.pearsonr(capomulin_avg['Weight (g)'],capomulin_avg['Tumor Volume (mm3)'])[0]\n",
    "\n",
    "line_reg =  st.linregress(capomulin_avg['Weight (g)'],capomulin_avg['Tumor Volume (mm3)'])\n",
    "y_axis = capomulin_avg['Weight (g)']*line_reg[0]+line_reg[1]\n",
    "\n",
    "plt.scatter(capomulin_avg['Weight (g)'],capomulin_avg['Tumor Volume (mm3)'])\n",
    "plt.plot(capomulin_avg['Weight (g)'],y_axis, color=\"red\")\n",
    "plt.xlabel('Weight')\n",
    "plt.ylabel('Average Tumor Volume')\n",
    "plt.title('Capomulin Weight vs Average Tumor Volume with Line')\n",
    "\n",
    "plt.show()"
   ]
  },
  {
   "cell_type": "code",
   "execution_count": null,
   "metadata": {},
   "outputs": [],
   "source": []
  }
 ],
 "metadata": {
  "anaconda-cloud": {},
  "kernelspec": {
   "display_name": "Python 3",
   "language": "python",
   "name": "python3"
  },
  "language_info": {
   "codemirror_mode": {
    "name": "ipython",
    "version": 3
   },
   "file_extension": ".py",
   "mimetype": "text/x-python",
   "name": "python",
   "nbconvert_exporter": "python",
   "pygments_lexer": "ipython3",
   "version": "3.7.4"
  }
 },
 "nbformat": 4,
 "nbformat_minor": 2
}
